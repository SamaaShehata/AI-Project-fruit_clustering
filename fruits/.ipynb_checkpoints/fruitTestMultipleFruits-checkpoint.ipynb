{
 "cells": [
  {
   "cell_type": "code",
   "execution_count": 2,
   "metadata": {},
   "outputs": [],
   "source": [
    "import tensorflow as tf\n",
    "from tensorflow import keras\n",
    "from tensorflow.keras import layers\n",
    "from sklearn.datasets import load_files\n",
    "import numpy as np\n",
    "import matplotlib.pyplot as plt\n",
    "import pandas as pd\n",
    "import os\n",
    "import cv2\n",
    "from tqdm import tqdm"
   ]
  },
  {
   "cell_type": "code",
   "execution_count": 3,
   "metadata": {},
   "outputs": [
    {
     "name": "stderr",
     "output_type": "stream",
     "text": [
      "100%|██████████| 492/492 [00:01<00:00, 279.97it/s]\n",
      "100%|██████████| 492/492 [00:01<00:00, 451.90it/s]\n",
      "100%|██████████| 427/427 [00:04<00:00, 88.95it/s] \n",
      "100%|██████████| 490/490 [00:03<00:00, 151.08it/s]\n",
      "100%|██████████| 462/462 [00:00<00:00, 554.96it/s]\n",
      "100%|██████████| 492/492 [00:01<00:00, 449.05it/s]\n",
      "100%|██████████| 490/490 [00:01<00:00, 453.91it/s]\n",
      "100%|██████████| 490/490 [00:01<00:00, 402.57it/s]\n",
      "100%|██████████| 450/450 [00:01<00:00, 306.19it/s]\n",
      "100%|██████████| 490/490 [00:00<00:00, 750.66it/s]\n",
      "100%|██████████| 492/492 [00:02<00:00, 185.39it/s]\n",
      "100%|██████████| 490/490 [00:01<00:00, 266.00it/s]\n",
      "100%|██████████| 479/479 [00:02<00:00, 181.34it/s]\n",
      "100%|██████████| 475/475 [00:00<00:00, 752.58it/s]\n"
     ]
    }
   ],
   "source": [
    "#Import training data\n",
    "directory=r'C:\\Users\\samaa\\Documents\\AI_Project\\fruits\\fruits-360\\Training'\n",
    "classes=[\"AppleRed1\",\"Apricot\",\"Avocado\",\"Banana\",\n",
    "         \"Blueberry\",\"Cherry 1\",\"Carambula\",\"Cocos\",\n",
    "         \"Corn\",\"Dates\",\"Lemon\",\"Mango\",\"Orange\",\"Watermelon\"]\n",
    "\n",
    "all_arrays=[]\n",
    "img_size=100\n",
    "for i in classes:\n",
    "    path=os.path.join(directory,i)\n",
    "    class_num=classes.index(i)\n",
    "    for img in tqdm(os.listdir(path)):\n",
    "        #img_array=cv2.imread(os.path.join(path,img),cv2.IMREAD_GRAYSCALE)\n",
    "        img_array=cv2.imread(os.path.join(path,img))\n",
    "        img_array=cv2.cvtColor(img_array, cv2.COLOR_BGR2RGB)\n",
    "        img_array=cv2.resize(img_array,(img_size,img_size))\n",
    "        all_arrays.append([img_array,class_num])\n",
    "        "
   ]
  },
  {
   "cell_type": "code",
   "execution_count": 4,
   "metadata": {},
   "outputs": [
    {
     "name": "stderr",
     "output_type": "stream",
     "text": [
      "100%|██████████| 31/31 [00:01<00:00, 26.10it/s]\n",
      "100%|██████████| 23/23 [00:00<00:00, 37.42it/s]\n",
      "100%|██████████| 37/37 [00:00<00:00, 73.61it/s]\n",
      "100%|██████████| 34/34 [00:01<00:00, 27.99it/s] \n",
      "100%|██████████| 25/25 [00:00<00:00, 36.41it/s]\n",
      "100%|██████████| 32/32 [00:00<00:00, 33.46it/s]\n",
      "100%|██████████| 28/28 [00:00<00:00, 47.20it/s]\n",
      "100%|██████████| 30/30 [00:00<00:00, 50.73it/s]\n",
      "100%|██████████| 51/51 [00:01<00:00, 49.94it/s] \n",
      "100%|██████████| 30/30 [00:00<00:00, 39.81it/s]\n",
      "100%|██████████| 46/46 [00:00<00:00, 50.62it/s] \n",
      "100%|██████████| 43/43 [00:00<00:00, 58.88it/s]\n",
      "100%|██████████| 56/56 [00:01<00:00, 34.29it/s]\n",
      "100%|██████████| 33/33 [00:00<00:00, 58.40it/s]\n"
     ]
    }
   ],
   "source": [
    "#Import testing data\n",
    "directory2=r'C:\\Users\\samaa\\Documents\\AI_Project\\fruits\\fruits-360\\test-multiple_fruits'\n",
    "classes2=[\"AppleRed1\",\"Apricot\",\"Avocado\",\"Banana\",\n",
    "          \"Blueberry\",\"Cherry 1\",\"Carambula\",\"Cocos\",\n",
    "          \"Corn\",\"Dates\",\"Lemon\",\"Mango\",\"Orange\",\"Watermelon\"]\n",
    "\n",
    "all_arrays2=[]\n",
    "img_size=100\n",
    "for i in classes2:\n",
    "    path=os.path.join(directory2,i)\n",
    "    class_num2=classes2.index(i)\n",
    "    for img in tqdm(os.listdir(path)):\n",
    "        #img_array2=cv2.imread(os.path.join(path,img),cv2.IMREAD_GRAYSCALE)\n",
    "        img_array2=cv2.imread(os.path.join(path,img))\n",
    "        img_array2=cv2.cvtColor(img_array2, cv2.COLOR_BGR2RGB)\n",
    "        img_array2=cv2.resize(img_array2,(img_size,img_size))\n",
    "        all_arrays2.append([img_array2,class_num2])"
   ]
  },
  {
   "cell_type": "code",
   "execution_count": 5,
   "metadata": {},
   "outputs": [],
   "source": [
    "#Deviding training data into imges and lables to be used in the model\n",
    "train_images = []\n",
    "train_labels = []\n",
    "\n",
    "for features,label in all_arrays:\n",
    "    train_images.append(features)\n",
    "    train_labels.append(label)\n",
    "\n",
    "#converting train_images &train_lables from lists into np arra to fit in the modle\n",
    "train_images = np.array(train_images)\n",
    "train_labels = np.array(train_labels)"
   ]
  },
  {
   "cell_type": "code",
   "execution_count": 6,
   "metadata": {},
   "outputs": [],
   "source": [
    "#Deviding testing data into imges and lables to be used in the model\n",
    "test_images = []\n",
    "test_labels = []\n",
    "\n",
    "for features,label in all_arrays2:\n",
    "    test_images.append(features)\n",
    "    test_labels.append(label)\n",
    "    \n",
    "test_images = np.array(test_images)\n",
    "test_labels = np.array(test_labels)"
   ]
  },
  {
   "cell_type": "code",
   "execution_count": 56,
   "metadata": {},
   "outputs": [],
   "source": [
    "#normalization\n",
    "#train_images = train_images / 255.0\n",
    "#test_images = test_images / 255.0"
   ]
  },
  {
   "cell_type": "code",
   "execution_count": 57,
   "metadata": {},
   "outputs": [],
   "source": [
    "#normalization\n",
    "train_images = tf.keras.utils.normalize(train_images, axis=1)\n",
    "test_images = tf.keras.utils.normalize(test_images, axis=1)"
   ]
  },
  {
   "cell_type": "code",
   "execution_count": 58,
   "metadata": {},
   "outputs": [
    {
     "name": "stdout",
     "output_type": "stream",
     "text": [
      "11\n",
      "12\n",
      "0\n",
      "6\n",
      "2\n",
      "1\n",
      "11\n",
      "10\n",
      "9\n",
      "6\n",
      "1\n",
      "0\n",
      "12\n",
      "1\n",
      "8\n"
     ]
    }
   ],
   "source": [
    "#shuffle the data and print a sample\n",
    "import random\n",
    "random.shuffle(all_arrays)\n",
    "for sample in all_arrays[:15]:\n",
    "    print(sample[1])\n"
   ]
  },
  {
   "cell_type": "code",
   "execution_count": 59,
   "metadata": {},
   "outputs": [
    {
     "name": "stdout",
     "output_type": "stream",
     "text": [
      "(6711, 100, 100, 3)\n",
      "6711\n",
      "[ 0  0  0 ... 13 13 13]\n",
      "(499, 100, 100, 3)\n",
      "499\n"
     ]
    }
   ],
   "source": [
    "#print the shapes\n",
    "print(train_images.shape)\n",
    "print(len(train_labels))\n",
    "print(train_labels)\n",
    "print(test_images.shape)\n",
    "print(len(test_labels))"
   ]
  },
  {
   "cell_type": "code",
   "execution_count": 60,
   "metadata": {},
   "outputs": [
    {
     "data": {
      "image/png": "[encoded data removed]",
      "text/plain": [
       "<Figure size 432x288 with 1 Axes>"
      ]
     },
     "metadata": {
      "needs_background": "light"
     },
     "output_type": "display_data"
    }
   ],
   "source": [
    "#displaying an image\n",
    "plt.imshow(train_images[2500], interpolation='nearest')  # graph it\n",
    "plt.show()  # display!"
   ]
  },
  {
   "cell_type": "code",
   "execution_count": 61,
   "metadata": {},
   "outputs": [],
   "source": [
    "model = keras.Sequential([\n",
    "    keras.layers.Flatten(input_shape=(100, 100, 3)),\n",
    "    keras.layers.Dense(128, activation=tf.nn.relu),\n",
    "    keras.layers.Dense(128, activation=tf.nn.relu),\n",
    "    keras.layers.Dense(15, activation=tf.nn.softmax)\n",
    "])"
   ]
  },
  {
   "cell_type": "code",
   "execution_count": 62,
   "metadata": {},
   "outputs": [],
   "source": [
    "model.compile(optimizer='adam',\n",
    "              loss='sparse_categorical_crossentropy', # diff between actual and probabilities\n",
    "              metrics=['accuracy'])"
   ]
  },
  {
   "cell_type": "code",
   "execution_count": 63,
   "metadata": {},
   "outputs": [
    {
     "name": "stdout",
     "output_type": "stream",
     "text": [
      "Epoch 1/10\n",
      "6711/6711 [==============================] - 37s 6ms/step - loss: 1.0643 - acc: 0.7114\n",
      "Epoch 2/10\n",
      "6711/6711 [==============================] - 8s 1ms/step - loss: 0.1483 - acc: 0.9841\n",
      "Epoch 3/10\n",
      "6711/6711 [==============================] - 9s 1ms/step - loss: 0.0618 - acc: 0.9921\n",
      "Epoch 4/10\n",
      "6711/6711 [==============================] - 9s 1ms/step - loss: 0.0273 - acc: 0.9999\n",
      "Epoch 5/10\n",
      "6711/6711 [==============================] - 8s 1ms/step - loss: 0.0159 - acc: 0.9994A: 4s -\n",
      "Epoch 6/10\n",
      "6711/6711 [==============================] - 9s 1ms/step - loss: 0.0089 - acc: 1.0000\n",
      "Epoch 7/10\n",
      "6711/6711 [==============================] - 9s 1ms/step - loss: 0.0067 - acc: 1.0000\n",
      "Epoch 8/10\n",
      "6711/6711 [==============================] - 9s 1ms/step - loss: 0.0044 - acc: 1.0000\n",
      "Epoch 9/10\n",
      "6711/6711 [==============================] - 8s 1ms/step - loss: 0.0032 - acc: 1.0000\n",
      "Epoch 10/10\n",
      "6711/6711 [==============================] - 8s 1ms/step - loss: 0.0025 - acc: 1.0000\n"
     ]
    },
    {
     "data": {
      "text/plain": [
       "<tensorflow.python.keras.callbacks.History at 0x1fd81c68f98>"
      ]
     },
     "execution_count": 63,
     "metadata": {},
     "output_type": "execute_result"
    }
   ],
   "source": [
    "model.fit(train_images, train_labels, batch_size = 128, epochs = 10)"
   ]
  },
  {
   "cell_type": "code",
   "execution_count": 64,
   "metadata": {},
   "outputs": [
    {
     "name": "stdout",
     "output_type": "stream",
     "text": [
      "499/499 [==============================] - 12s 25ms/step\n",
      "Test accuracy: 0.809619237879713\n"
     ]
    }
   ],
   "source": [
    "test_loss, test_acc = model.evaluate(test_images, test_labels)\n",
    "print('Test accuracy:', test_acc)\n"
   ]
  },
  {
   "cell_type": "code",
   "execution_count": 65,
   "metadata": {},
   "outputs": [
    {
     "name": "stdout",
     "output_type": "stream",
     "text": [
      "[6.0402103e-02 4.2207721e-01 1.8823572e-03 7.7897814e-05 5.6188976e-05\n",
      " 1.0007310e-05 1.7966331e-03 5.1213908e-01 9.2929122e-07 1.3874219e-03\n",
      " 7.5432595e-06 1.0807033e-07 5.1959903e-09 1.6247116e-04 2.6499218e-13]\n",
      "7\n",
      "0\n"
     ]
    }
   ],
   "source": [
    "predictions = model.predict(test_images)\n",
    "print(predictions[0])\n",
    "print(np.argmax(predictions[0]))\n",
    "print(test_labels[0])"
   ]
  },
  {
   "cell_type": "code",
   "execution_count": 66,
   "metadata": {},
   "outputs": [
    {
     "data": {
      "image/png": "[encoded data removed]",
      "text/plain": [
       "<Figure size 432x288 with 2 Axes>"
      ]
     },
     "metadata": {
      "needs_background": "light"
     },
     "output_type": "display_data"
    }
   ],
   "source": [
    "plt.figure()\n",
    "plt.imshow(train_images[0], interpolation='nearest')\n",
    "plt.colorbar()\n",
    "plt.grid(False)\n",
    "plt.show()"
   ]
  }
 ],
 "metadata": {
  "kernelspec": {
   "display_name": "Python 3",
   "language": "python",
   "name": "python3"
  },
  "language_info": {
   "codemirror_mode": {
    "name": "ipython",
    "version": 3
   },
   "file_extension": ".py",
   "mimetype": "text/x-python",
   "name": "python",
   "nbconvert_exporter": "python",
   "pygments_lexer": "ipython3",
   "version": "3.6.10"
  }
 },
 "nbformat": 4,
 "nbformat_minor": 2
}
